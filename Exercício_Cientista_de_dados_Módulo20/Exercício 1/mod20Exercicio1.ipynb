{
 "cells": [
  {
   "attachments": {
    "telmarketing_icon.png": {
     "image/png": "[encoded data removed]"
    }
   },
   "cell_type": "markdown",
   "id": "4e699293",
   "metadata": {},
   "source": [
    "# Módulo 20 Exercício 1\n",
    "![telmarketing_icon.png](attachment:telmarketing_icon.png)"
   ]
  },
  {
   "cell_type": "markdown",
   "id": "b23336a2",
   "metadata": {},
   "source": [
    "# <span style=\"color:darkblue\">Fórmula de Bhaskara<span style=\"color:blue\"><br>\n",
    "\n",
    "A solução para uma função de segundo grau depende das suas raízes (valores de x). Como já vimos, os coeficientes precisam ser números reais e o angular diferente de zero. Sendo assim, temos a seguinte fórmula de Bhaskara:<br>\n",
    "\n",
    "# $$x=\\frac{-b±\\sqrt{b^2-4.a.c}}{2.a}$$\n",
    "*$$Fórmula\\ de\\ Bhaskara.$$*<br>\n",
    "\n",
    "Para melhor compreensão o seu cálculo é dividido em duas partes: discriminante da equação e operações para determinar as raízes.<br><br>\n",
    "\n",
    "**Discriminante**<br><br>\n",
    "\n",
    "A figura dentro da raiz na fórmula de Bhaskara é nomeada de discriminante. Seu símbolo é a letra grega delta e apresenta a determinanda fórmula:<br>\n",
    "\n",
    "# $$\\Delta = b^2-4.a.c$$\n",
    "*$$Fórmula\\ de\\ discriminante.$$*<br>\n",
    "\n",
    "- Se o delta for maior que zero, a equação terá dois valores reais e distintos.\n",
    "- Se o delta for igual a zero, a equação terá somente um valor real ou dois resultados iguais.\n",
    "- Se o delta for menor que zero, a equação não possuirá valores reais."
   ]
  },
  {
   "cell_type": "markdown",
   "id": "a1661b53",
   "metadata": {},
   "source": [
    "---\n",
    "# Fórmulas mostradas em código Latex.\n",
    "\n",
    "# <span style=\"color:darkblue\">Fórmula de Bhaskara<span style=\"color:blue\"><br>\n",
    "\n",
    "A solução para uma função de segundo grau depende das suas raízes (valores de x). Como já vimos, os coeficientes precisam ser números reais e o angular diferente de zero. Sendo assim, temos a seguinte fórmula de Bhaskara:<br>\n",
    "\n",
    "---\n",
    "``` Latex\n",
    "# $$x=\\frac{-b±\\sqrt{b^2-4.a.c}}{2.a}$$\n",
    "*$$Fórmula\\ de\\ Bhaskara.$$*<br>\n",
    "```\n",
    "---\n",
    "Para melhor compreensão o seu cálculo é dividido em duas partes: discriminante da equação e operações para determinar as raízes.<br><br>\n",
    "\n",
    "**Discriminante**<br><br>\n",
    "\n",
    "A figura dentro da raiz na fórmula de Bhaskara é nomeada de discriminante. Seu símbolo é a letra grega delta e apresenta a determinanda fórmula:<br>\n",
    "\n",
    "---\n",
    "``` Latex\n",
    "# $$\\Delta = b^2-4.a.c$$\n",
    "*$$Fórmula\\ de\\ discriminante.$$*<br>\n",
    "```\n",
    "---\n",
    "- Se o delta for maior que zero, a equação terá dois valores reais e distintos.\n",
    "- Se o delta for igual a zero, a equação terá somente um valor real ou dois resultados iguais.\n",
    "- Se o delta for menor que zero, a equação não possuirá valores reais."
   ]
  }
 ],
 "metadata": {
  "kernelspec": {
   "display_name": "Python 3 (ipykernel)",
   "language": "python",
   "name": "python3"
  },
  "language_info": {
   "codemirror_mode": {
    "name": "ipython",
    "version": 3
   },
   "file_extension": ".py",
   "mimetype": "text/x-python",
   "name": "python",
   "nbconvert_exporter": "python",
   "pygments_lexer": "ipython3",
   "version": "3.11.5"
  }
 },
 "nbformat": 4,
 "nbformat_minor": 5
}
