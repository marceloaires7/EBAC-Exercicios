{
 "cells": [
  {
   "cell_type": "code",
   "execution_count": 13,
   "metadata": {},
   "outputs": [
    {
     "name": "stdout",
     "output_type": "stream",
     "text": [
      "Python implementation: CPython\n",
      "Python version       : 3.11.9\n",
      "IPython version      : 8.25.0\n",
      "\n",
      "pycaret: 3.3.2\n",
      "\n",
      "matplotlib: 3.7.5\n",
      "pandas    : 2.1.4\n",
      "seaborn   : 0.13.2\n",
      "\n"
     ]
    }
   ],
   "source": [
    "import pandas as pd\n",
    "import matplotlib.pyplot as plt\n",
    "import seaborn as sns\n",
    "from pycaret.classification import *\n",
    "\n",
    "%reload_ext watermark\n",
    "%watermark -iv -v -p pycaret"
   ]
  },
  {
   "cell_type": "markdown",
   "metadata": {},
   "source": [
    "# Projeto Semantix\n",
    "\n",
    "O objetivo deste projeto é encontrar uma problemática da vida real que possa ser solucionada através de análise de dados e machine learning. A ideia do projeto é explanar e **justificar** a **relevância** do uso de dados para encontrar a solução.\n",
    "\n",
    "---"
   ]
  },
  {
   "cell_type": "markdown",
   "metadata": {},
   "source": [
    "## **1. Dados do Dataset:** \n",
    "\n",
    "Os dados representam informações dos jogos da Premier League do ano de 2023/24 e contam com as seguintes colunas: \n",
    "\n",
    "| *Coluna*            | *Explicação*                          |\n",
    "|---------------------|---------------------------------------|\n",
    "| Date                | Data                                  |\n",
    "| Time                | Horário                               |\n",
    "| Comp                | \"Premier League\"                      |\n",
    "| Round               | Rodada da partida                     |\n",
    "| Day                 | Dia da Semana                         |\n",
    "| Venue               | \"Home\"                                |\n",
    "| Result              | Resultado da partida (\"W\", \"L\" ou \"D\")|\n",
    "| GF                  | Gols Marcados                         |\n",
    "| GA                  | Gols Sofridos                         |\n",
    "| Opponent            | Oponente                              |\n",
    "| xG                  | Gols Marcados esperados               |\n",
    "| xGA                 | Gols Sofridos esperados               |\n",
    "| Poss                | Posse de bola                         |\n",
    "| Attendance          | Público presente                      |\n",
    "| Captain             | Capitão do Time                       |\n",
    "| Formation           | Formação do Time                      |\n",
    "| Referee             | Árbitro                               |\n",
    "| Sh                  | Total de Chutes                       |\n",
    "| SoT                 | Total de Chutes a Gol                 |\n",
    "| Dist                | Distância Média  dos Chutes           |\n",
    "| FK                  | Chutes de Falta                       |\n",
    "| PK                  | Penaltis Convertidos                  |\n",
    "| PKatt               | Penaltis Cobrados                     |\n",
    "| Season              | \"2024\"                                |\n",
    "| Team                | Time Mandante                         |\n",
    "| Captain_Opponent    | Capitão do Time                       |\n",
    "| Formation_Opponent  | Formação do Time                      |\n",
    "| Sh_Opponent         | Total de Chutes                       |\n",
    "| SoT_Opponent        | Total de Chutes a Gol                 |\n",
    "| Dist_Opponent       | Distância Média dos Chutes            |\n",
    "| FK_Opponent         | Chutes de Falta                       |\n",
    "| PK_Opponent         | Penaltis Convertidos                  |\n",
    "| PKatt_Opponent      | Penaltis Cobrados                     |\n",
    "\n",
    "\n",
    "---"
   ]
  },
  {
   "cell_type": "markdown",
   "metadata": {},
   "source": [
    "## **2. Análise Exploratória de Dados (EDA):** \n",
    "\n",
    "Vamos carregar nosso dataset e analisar cada um dos dados."
   ]
  },
  {
   "cell_type": "code",
   "execution_count": null,
   "metadata": {},
   "outputs": [],
   "source": []
  }
 ],
 "metadata": {
  "kernelspec": {
   "display_name": "ProjetoFinal",
   "language": "python",
   "name": "python3"
  },
  "language_info": {
   "codemirror_mode": {
    "name": "ipython",
    "version": 3
   },
   "file_extension": ".py",
   "mimetype": "text/x-python",
   "name": "python",
   "nbconvert_exporter": "python",
   "pygments_lexer": "ipython3",
   "version": "3.11.9"
  }
 },
 "nbformat": 4,
 "nbformat_minor": 2
}
