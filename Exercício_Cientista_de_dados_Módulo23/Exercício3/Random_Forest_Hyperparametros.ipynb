{
 "cells": [
  {
   "cell_type": "markdown",
   "id": "e4a8305a",
   "metadata": {},
   "source": [
    "![cabecalho_notebook.png](./cabecalho_notebook.png)"
   ]
  },
  {
   "cell_type": "markdown",
   "id": "23054862",
   "metadata": {},
   "source": [
    "# RANDOM FOREST - HYPERPARÂMETROS"
   ]
  },
  {
   "cell_type": "markdown",
   "id": "c660e17d",
   "metadata": {},
   "source": [
    "# 0. Índice <a name=\"Contents\"></a>\n",
    "1. [Quais são os hyperparâmetrosdo RF?](#1)\n",
    "2. [Pra que serve cada um deles?](#2)"
   ]
  },
  {
   "cell_type": "markdown",
   "id": "e768a613",
   "metadata": {},
   "source": [
    "# 1. Quais são os hyperparâmetros do RF? <a name=\"1\"></a>\n",
    "\n",
    "<div style=\"text-align: right\"\n",
    "     \n",
    "[Voltar ao índice](#Contents)"
   ]
  },
  {
   "cell_type": "markdown",
   "id": "69ace2d8",
   "metadata": {},
   "source": []
  },
  {
   "cell_type": "markdown",
   "id": "37fe9ba2",
   "metadata": {},
   "source": [
    "# 2. Pra que serve cada um deles? <a name=\"2\"></a>\n",
    "\n",
    "<div style=\"text-align: right\"\n",
    "     \n",
    "[Voltar ao índice](#Contents)"
   ]
  },
  {
   "cell_type": "markdown",
   "id": "91e751ff",
   "metadata": {},
   "source": []
  },
  {
   "cell_type": "markdown",
   "id": "30289d70",
   "metadata": {},
   "source": [
    "<div style=\"text-align: right\"\n",
    "     \n",
    "[Voltar ao índice](#Contents)"
   ]
  }
 ],
 "metadata": {
  "kernelspec": {
   "display_name": "Python 3 (ipykernel)",
   "language": "python",
   "name": "python3"
  },
  "language_info": {
   "codemirror_mode": {
    "name": "ipython",
    "version": 3
   },
   "file_extension": ".py",
   "mimetype": "text/x-python",
   "name": "python",
   "nbconvert_exporter": "python",
   "pygments_lexer": "ipython3",
   "version": "3.10.11"
  }
 },
 "nbformat": 4,
 "nbformat_minor": 5
}
