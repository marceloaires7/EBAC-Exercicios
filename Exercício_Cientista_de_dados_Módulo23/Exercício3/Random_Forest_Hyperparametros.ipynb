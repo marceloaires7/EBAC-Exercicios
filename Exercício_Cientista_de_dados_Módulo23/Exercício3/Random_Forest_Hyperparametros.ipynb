{
 "cells": [
  {
   "cell_type": "markdown",
   "id": "e4a8305a",
   "metadata": {},
   "source": [
    "![cabecalho_notebook.png](./cabecalho_notebook.png)"
   ]
  },
  {
   "cell_type": "markdown",
   "id": "23054862",
   "metadata": {},
   "source": [
    "# RANDOM FOREST - HYPERPARÂMETROS"
   ]
  },
  {
   "cell_type": "markdown",
   "id": "c660e17d",
   "metadata": {},
   "source": [
    "# 0. Índice <a name=\"Contents\"></a>\n",
    "1. [Quais são os hyperparâmetrosdo RF?](#1)\n",
    "2. [Pra que serve cada um deles?](#2)"
   ]
  },
  {
   "cell_type": "markdown",
   "id": "e768a613",
   "metadata": {},
   "source": [
    "# 1. Quais são os hyperparâmetros do RF? <a name=\"1\"></a>\n",
    "# 2. Pra que serve cada um deles? <a name=\"2\"></a>\n",
    "\n",
    "<div style=\"text-align: right\"\n",
    "     \n",
    "[Voltar ao índice](#Contents)"
   ]
  },
  {
   "cell_type": "markdown",
   "id": "69ace2d8",
   "metadata": {},
   "source": [
    "Antes de treinar nosso modelo com o .RandomForestClassifier(), precisamos definir os hyperparâmetros para chegar em uma combinação ideal de valores a fim de otimizar o desempenho do algorítimo. Segue abaixo alguns dos hyperparâmetros para serem utilizador no .RandomForestClassifier():\n",
    "\n",
    "**1.** max_depth: Profundidade máxima das árvores.\n",
    "\n",
    "**2.** min_sample_split: Número mínimo de observações necessárias para dividir qualquer nó presente na árvore Default = 2\n",
    "\n",
    "**3.** max_leaf_nodes: Número máximo de folhas por nó. Se após a divisão tivermos mais nós terminais do que o número especificado, isso interromperá a divisão e a árvore não crescerá mais.\n",
    "\n",
    "**4.** min_samples_leaf: Número mínimo de amostras necessárias para dividir um nó interno. Default = 1\n",
    "\n",
    "**5.** n_estimators: Número de árvores na floresta.\n",
    "\n",
    "**6.** max_sample: Fração máxima do Dataset original que será dada para uma árvore individual.\n",
    "\n",
    "**7.** max_features: O número de features (Colunas) a serem considerados ao procurar a melhor divisão.\n",
    "\n",
    "**8.** bootstrap: Método utilizado para formação das amostragens com ou sem Reposição. Default = True\n",
    "\n",
    "**9.** criterion: Função para medir a qualidade da divisão da árvore. O critérios suportados são \"gini\" para verificar as impurezas, ou \"entropy\" para ganho de informação."
   ]
  },
  {
   "cell_type": "markdown",
   "id": "30289d70",
   "metadata": {},
   "source": [
    "<div style=\"text-align: right\"\n",
    "     \n",
    "[Voltar ao índice](#Contents)"
   ]
  }
 ],
 "metadata": {
  "kernelspec": {
   "display_name": "Python 3 (ipykernel)",
   "language": "python",
   "name": "python3"
  },
  "language_info": {
   "codemirror_mode": {
    "name": "ipython",
    "version": 3
   },
   "file_extension": ".py",
   "mimetype": "text/x-python",
   "name": "python",
   "nbconvert_exporter": "python",
   "pygments_lexer": "ipython3",
   "version": "3.10.11"
  }
 },
 "nbformat": 4,
 "nbformat_minor": 5
}
