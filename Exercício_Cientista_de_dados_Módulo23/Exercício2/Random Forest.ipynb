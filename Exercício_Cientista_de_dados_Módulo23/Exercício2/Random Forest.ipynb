{
 "cells": [
  {
   "cell_type": "markdown",
   "id": "e4a8305a",
   "metadata": {},
   "source": [
    "![cabecalho_notebook.png](./cabecalho_notebook.png)"
   ]
  },
  {
   "cell_type": "markdown",
   "id": "23054862",
   "metadata": {},
   "source": [
    "# RANDOM FOREST"
   ]
  },
  {
   "cell_type": "markdown",
   "id": "c660e17d",
   "metadata": {},
   "source": [
    "# 0. Índice <a name=\"Contents\"></a>\n",
    "1. [Monte um passo a passo para o algoritmo RF](#1)\n",
    "2. [Explique com suas palavras o Randomforest](#2)\n",
    "3. [Qual a diferença entre Bagginge Random Forest?](#3)\n",
    "4. [Implementar em python o Random Forest–Bootstrap–Featureselection–Modelagem com Decisiontrees–Agregação](#4)"
   ]
  },
  {
   "cell_type": "markdown",
   "id": "e768a613",
   "metadata": {},
   "source": [
    "# 1. Monte um passo a passo para o algoritmo RF <a name=\"1\"></a>\n",
    "\n",
    "<div style=\"text-align: right\"\n",
    "     \n",
    "[Voltar ao índice](#Contents)"
   ]
  },
  {
   "cell_type": "markdown",
   "id": "69ace2d8",
   "metadata": {},
   "source": [
    "## 1.1 Amostragem com reposição (Bootstrap)\n",
    "\n",
    "A partir de um Dataset principal, separamos um conjunto de dados de treinamento, pegamos aleatóriamente os dados presentes nele e criamos **n** Datasets com a mesma quantidade de linhas. Cada amostragem é construída com os dados disponível, porém com reposição, ou seja, pode-se repetir o mesmo dado encontrado no nosso Dataset principal."
   ]
  },
  {
   "cell_type": "markdown",
   "id": "18dc9775",
   "metadata": {},
   "source": [
    "## 1.2. Criação de modelos com as amostragens do Bootstrap (Base Learners)\n",
    "\n",
    "Depois da criação das amostragens, criamos os modelos para cada amostragem, podendo utilizar metodos como árvore de decisão, regressão, logisticas, etc. Isso resultará em múltiplos modelos de base, cada um treinado em um subconjunto diferente dos dados disponibilizados."
   ]
  },
  {
   "cell_type": "markdown",
   "id": "d729a25a",
   "metadata": {},
   "source": [
    "## 1.3. Análise de resultados (Aggregating)\n",
    "\n",
    "Para analisar os resultados, faremos uma agregação das previsões encontradas dos modelos criados:\n",
    "- Para problemas de classificação, realiza uma votação entre as previsões dos Base Learners, sendo a mais votada o resultado final.\n",
    "- Para problemas de regressão, calcule a média das previsões dos Base Learners."
   ]
  },
  {
   "cell_type": "markdown",
   "id": "37fe9ba2",
   "metadata": {},
   "source": [
    "# 2. Explique com suas palavras o Randomforest <a name=\"2\"></a>\n",
    "\n",
    "<div style=\"text-align: right\"\n",
    "     \n",
    "[Voltar ao índice](#Contents)"
   ]
  },
  {
   "cell_type": "markdown",
   "id": "91e751ff",
   "metadata": {},
   "source": [
    "Bagging, também conhecido como Bootstrap Aggregating. É o método de aprendizado por agrupamento para criação de modelos de machine learning, visando melhorar a precisão e a estabilidade de modelos.\n",
    "\n",
    "Como explicado acima, temos que realizar o passo-a-passo, o método mais utilizado é o Random Forest (Árvore de Decisão). O Bagging é de grande utilidade para reduzir a variância, tornar o modelo mais robusto, evitar overfitting e melhorar a precisão."
   ]
  },
  {
   "cell_type": "markdown",
   "id": "506e8067",
   "metadata": {},
   "source": [
    "# 3. Qual a diferença entre Bagginge Random Forest? <a name=\"3\"></a>\n",
    "\n",
    "<div style=\"text-align: right\"\n",
    "     \n",
    "[Voltar ao índice](#Contents)"
   ]
  },
  {
   "cell_type": "markdown",
   "id": "6d93a9e0",
   "metadata": {},
   "source": []
  },
  {
   "cell_type": "markdown",
   "id": "98a6cd7d",
   "metadata": {},
   "source": [
    "# 4. Implementar em python o Random Forest–Bootstrap–Featureselection–Modelagem com Decisiontrees–Agregação <a name=\"4\"></a>\n",
    "\n",
    "<div style=\"text-align: right\"\n",
    "     \n",
    "[Voltar ao índice](#Contents)"
   ]
  },
  {
   "cell_type": "code",
   "execution_count": 1,
   "id": "abc61a77",
   "metadata": {},
   "outputs": [
    {
     "name": "stdout",
     "output_type": "stream",
     "text": [
      "Python implementation: CPython\n",
      "Python version       : 3.10.11\n",
      "IPython version      : 8.12.0\n",
      "\n",
      "matplotlib: 3.7.1\n",
      "sklearn   : 1.3.0\n",
      "pandas    : 2.0.3\n",
      "numpy     : 1.23.5\n",
      "seaborn   : 0.12.2\n",
      "\n"
     ]
    }
   ],
   "source": [
    "import numpy as np\n",
    "from sklearn.tree import DecisionTreeRegressor\n",
    "from sklearn.model_selection import train_test_split\n",
    "from sklearn.metrics import accuracy_score\n",
    "from sklearn import tree\n",
    "\n",
    "import matplotlib.pyplot as plt\n",
    "import seaborn as sns\n",
    "import pandas as pd\n",
    "\n",
    "%matplotlib inline\n",
    "\n",
    "%reload_ext watermark\n",
    "%watermark --iversions --python"
   ]
  },
  {
   "cell_type": "code",
   "execution_count": 2,
   "id": "242b0a1f",
   "metadata": {
    "scrolled": true
   },
   "outputs": [
    {
     "data": {
      "text/html": [
       "<div>\n",
       "<style scoped>\n",
       "    .dataframe tbody tr th:only-of-type {\n",
       "        vertical-align: middle;\n",
       "    }\n",
       "\n",
       "    .dataframe tbody tr th {\n",
       "        vertical-align: top;\n",
       "    }\n",
       "\n",
       "    .dataframe thead th {\n",
       "        text-align: right;\n",
       "    }\n",
       "</style>\n",
       "<table border=\"1\" class=\"dataframe\">\n",
       "  <thead>\n",
       "    <tr style=\"text-align: right;\">\n",
       "      <th></th>\n",
       "      <th>total_bill</th>\n",
       "      <th>tip</th>\n",
       "      <th>size</th>\n",
       "      <th>sex_Female</th>\n",
       "      <th>smoker_No</th>\n",
       "      <th>day_Fri</th>\n",
       "      <th>day_Sat</th>\n",
       "      <th>day_Sun</th>\n",
       "      <th>time_Dinner</th>\n",
       "    </tr>\n",
       "  </thead>\n",
       "  <tbody>\n",
       "    <tr>\n",
       "      <th>0</th>\n",
       "      <td>16.99</td>\n",
       "      <td>1.01</td>\n",
       "      <td>2</td>\n",
       "      <td>1</td>\n",
       "      <td>1</td>\n",
       "      <td>0</td>\n",
       "      <td>0</td>\n",
       "      <td>1</td>\n",
       "      <td>1</td>\n",
       "    </tr>\n",
       "    <tr>\n",
       "      <th>1</th>\n",
       "      <td>10.34</td>\n",
       "      <td>1.66</td>\n",
       "      <td>3</td>\n",
       "      <td>0</td>\n",
       "      <td>1</td>\n",
       "      <td>0</td>\n",
       "      <td>0</td>\n",
       "      <td>1</td>\n",
       "      <td>1</td>\n",
       "    </tr>\n",
       "    <tr>\n",
       "      <th>2</th>\n",
       "      <td>21.01</td>\n",
       "      <td>3.50</td>\n",
       "      <td>3</td>\n",
       "      <td>0</td>\n",
       "      <td>1</td>\n",
       "      <td>0</td>\n",
       "      <td>0</td>\n",
       "      <td>1</td>\n",
       "      <td>1</td>\n",
       "    </tr>\n",
       "    <tr>\n",
       "      <th>3</th>\n",
       "      <td>23.68</td>\n",
       "      <td>3.31</td>\n",
       "      <td>2</td>\n",
       "      <td>0</td>\n",
       "      <td>1</td>\n",
       "      <td>0</td>\n",
       "      <td>0</td>\n",
       "      <td>1</td>\n",
       "      <td>1</td>\n",
       "    </tr>\n",
       "    <tr>\n",
       "      <th>4</th>\n",
       "      <td>24.59</td>\n",
       "      <td>3.61</td>\n",
       "      <td>4</td>\n",
       "      <td>1</td>\n",
       "      <td>1</td>\n",
       "      <td>0</td>\n",
       "      <td>0</td>\n",
       "      <td>1</td>\n",
       "      <td>1</td>\n",
       "    </tr>\n",
       "  </tbody>\n",
       "</table>\n",
       "</div>"
      ],
      "text/plain": [
       "   total_bill   tip  size  sex_Female  smoker_No  day_Fri  day_Sat  day_Sun  \\\n",
       "0       16.99  1.01     2           1          1        0        0        1   \n",
       "1       10.34  1.66     3           0          1        0        0        1   \n",
       "2       21.01  3.50     3           0          1        0        0        1   \n",
       "3       23.68  3.31     2           0          1        0        0        1   \n",
       "4       24.59  3.61     4           1          1        0        0        1   \n",
       "\n",
       "   time_Dinner  \n",
       "0            1  \n",
       "1            1  \n",
       "2            1  \n",
       "3            1  \n",
       "4            1  "
      ]
     },
     "execution_count": 2,
     "metadata": {},
     "output_type": "execute_result"
    }
   ],
   "source": [
    "tips = sns.load_dataset(\"tips\")\n",
    "tips = pd.get_dummies(tips, drop_first=True, dtype=int)\n",
    "tips.head()"
   ]
  },
  {
   "cell_type": "code",
   "execution_count": 3,
   "id": "92042b92",
   "metadata": {
    "scrolled": true
   },
   "outputs": [
    {
     "name": "stdout",
     "output_type": "stream",
     "text": [
      "Acurácia do modelo Bagging: 0.73\n"
     ]
    }
   ],
   "source": [
    "Amostragens = []\n",
    "\n",
    "for _ in range(100):\n",
    "    tips_sample = tips.sample(frac=1, replace=True)\n",
    "    \n",
    "    X = tips_sample.drop(['time_Dinner'], axis=1).copy()\n",
    "    y = tips_sample['time_Dinner'].copy()\n",
    "    \n",
    "    X_train, X_test, y_train, y_test = train_test_split(X, y, random_state=100,test_size=0.3)\n",
    "    \n",
    "    regr = DecisionTreeRegressor()\n",
    "    \n",
    "    model = regr.fit(X_train, y_train)\n",
    "    \n",
    "    y_pred = model.predict(X_test)\n",
    "    \n",
    "    Amostragens.append(y_pred)\n",
    "\n",
    "Amostragens_final = np.round(np.mean(Amostragens, axis=0))\n",
    "\n",
    "accuracy = accuracy_score(y_test, Amostragens_final)\n",
    "\n",
    "print(f'Acurácia do modelo Bagging: {accuracy:.2f}')"
   ]
  },
  {
   "cell_type": "markdown",
   "id": "30289d70",
   "metadata": {},
   "source": [
    "<div style=\"text-align: right\"\n",
    "     \n",
    "[Voltar ao índice](#Contents)"
   ]
  }
 ],
 "metadata": {
  "kernelspec": {
   "display_name": "Python 3 (ipykernel)",
   "language": "python",
   "name": "python3"
  },
  "language_info": {
   "codemirror_mode": {
    "name": "ipython",
    "version": 3
   },
   "file_extension": ".py",
   "mimetype": "text/x-python",
   "name": "python",
   "nbconvert_exporter": "python",
   "pygments_lexer": "ipython3",
   "version": "3.11.5"
  }
 },
 "nbformat": 4,
 "nbformat_minor": 5
}
